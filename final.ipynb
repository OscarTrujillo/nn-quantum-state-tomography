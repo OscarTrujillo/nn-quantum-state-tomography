{
 "metadata": {
  "language_info": {
   "codemirror_mode": {
    "name": "ipython",
    "version": 3
   },
   "file_extension": ".py",
   "mimetype": "text/x-python",
   "name": "python",
   "nbconvert_exporter": "python",
   "pygments_lexer": "ipython3",
   "version": "3.8.8-final"
  },
  "orig_nbformat": 2,
  "kernelspec": {
   "name": "python3",
   "display_name": "Python 3.8.8 64-bit ('tensorflow': conda)",
   "metadata": {
    "interpreter": {
     "hash": "6354cd11055e9fb7512c0557646255088dbd3030645ab6c2431714b4d1f5e506"
    }
   }
  }
 },
 "nbformat": 4,
 "nbformat_minor": 2,
 "cells": [
  {
   "cell_type": "code",
   "execution_count": 1,
   "metadata": {},
   "outputs": [],
   "source": [
    "from qiskit import *\n",
    "from numpy import pi\n",
    "import numpy as np\n",
    "import time\n",
    "#Tensorflow library. Used to implement machine learning models\n",
    "import tensorflow as tf\n",
    "#Dataframe manipulation library\n",
    "import pandas as pd\n",
    "#Graph plotting library\n",
    "import matplotlib.pyplot as plt\n",
    "%matplotlib inline\n",
    "# import basic plot tools\n",
    "from qiskit.tools.visualization import plot_histogram"
   ]
  },
  {
   "cell_type": "code",
   "execution_count": 54,
   "metadata": {},
   "outputs": [],
   "source": [
    "# useful functions\n",
    "# Define a F_gate\n",
    "def F_gate(circ,q,i,j,n,k) :\n",
    "    theta = np.arccos(np.sqrt(1/(n-k+1)))\n",
    "    circ.ry(-theta,q[j])       \n",
    "    circ.cz(q[i],q[j])\n",
    "    circ.ry(theta,q[j])\n",
    "    circ.barrier(q[i])\n",
    "# Define the cxrv gate which uses reverse CNOT instead of CNOT\n",
    "def  cxrv(circ,q,i,j) :\n",
    "    circ.h(q[i])\n",
    "    circ.h(q[j])\n",
    "    circ.cx(q[j],q[i])\n",
    "    circ.h(q[i])\n",
    "    circ.h(q[j])\n",
    "    circ.barrier(q[i],q[j])\n",
    "\n",
    "#normalize data\n",
    "def normalize(mem):\n",
    "    list_ = []\n",
    "    for num in mem:\n",
    "        list_.append([int(numeric_string) for numeric_string in list(num)])\n",
    "    return list_\n",
    "\n",
    "# function to create datasource\n",
    "def create_datasource(backend, circ, shots):\n",
    "    job = execute(circ, backend, shots=shots, memory=True)\n",
    "\n",
    "    time_exp = time.strftime('%d/%m/%Y %H:%M:%S')\n",
    "    print('start on', job, \"N=\", shots,time_exp)\n",
    "    result = job.result()\n",
    "    time_exp = time.strftime('%d/%m/%Y %H:%M:%S')\n",
    "    print('end on', job, \"N=\", shots,time_exp)\n",
    "\n",
    "    counts = result.get_counts(circ)\n",
    "    memory = result.get_memory()\n",
    "    \n",
    "    # save in test.csv\n",
    "    # numpy.savetxt(\"test.csv\", memory, delimiter=\",\", header='test',fmt='%s')\n",
    "\n",
    "    return memory, counts"
   ]
  },
  {
   "cell_type": "code",
   "execution_count": 55,
   "metadata": {},
   "outputs": [
    {
     "output_type": "stream",
     "name": "stdout",
     "text": [
      "          ┌──────────┐                                                     »\nq192_0: ──┤ RY(-π/4) ├─────────────────────────────────────────────────────»\n        ┌─┴──────────┴─┐                                    ┌─────────────┐»\nq192_1: ┤ RY(-0.95532) ├─────────────────────────────────■──┤ RY(0.95532) ├»\n        └─┬──────────┬─┘                    ┌─────────┐  │  └──────░──────┘»\nq192_2: ──┤ RY(-π/3) ├────────────────────■─┤ RY(π/3) ├──■─────────░───────»\n        ┌─┴──────────┴┐    ┌────────────┐ │ └────░────┘          ┌───┐     »\nq192_3: ┤ RY(-1.1071) ├──■─┤ RY(1.1071) ├─■──────░───────■───────┤ H ├─────»\n        └────┬───┬────┘  │ └─────░──────┘        ░     ┌─┴─┐     └┬─┬┘     »\nq192_4: ─────┤ X ├───────■───────░─────────────────────┤ X ├──────┤M├──────»\n             └───┘               ░                     └───┘      └╥┘      »\n  c2: 5/═══════════════════════════════════════════════════════════╩═══════»\n                                                                   4       »\n«             ┌─────────┐                  ┌─┐   \n«q192_0: ──■──┤ RY(π/4) ├───────────────■──┤M├───\n«          │  └────░────┘             ┌─┴─┐└╥┘┌─┐\n«q192_1: ──■───────░───────────────■──┤ X ├─╫─┤M├\n«        ┌───┐   ┌───┐   ┌───┐ ░ ┌─┴─┐└┬─┬┘ ║ └╥┘\n«q192_2: ┤ H ├───┤ X ├───┤ H ├─░─┤ X ├─┤M├──╫──╫─\n«        └───┘   └─┬─┘   ├───┤ ░ └┬─┬┘ └╥┘  ║  ║ \n«q192_3: ──────────■─────┤ H ├─░──┤M├───╫───╫──╫─\n«                        └───┘ ░  └╥┘   ║   ║  ║ \n«q192_4: ──────────────────────────╫────╫───╫──╫─\n«                                  ║    ║   ║  ║ \n«  c2: 5/══════════════════════════╩════╩═══╩══╩═\n«                                  3    2   0  1 \n"
     ]
    }
   ],
   "source": [
    "# w-state 'circuit_w_5' \n",
    "\n",
    "n = 5\n",
    "q = QuantumRegister(n) \n",
    "c = ClassicalRegister(n)\n",
    "circuit_w_5 = QuantumCircuit(q,c) \n",
    "\n",
    "circuit_w_5.x(q[4]) #start is |10000>\n",
    "F_gate(circuit_w_5,q,4,3,5,1) # Applying F12\n",
    "F_gate(circuit_w_5,q,3,2,5,2) # Applying F23\n",
    "F_gate(circuit_w_5,q,2,1,5,3) # Applying F34\n",
    "F_gate(circuit_w_5,q,1,0,5,4) # Applying F45\n",
    "circuit_w_5.cx(q[3],q[4]) # cNOT 21\n",
    "cxrv(circuit_w_5,q,2,3)   # cNOT 32\n",
    "\n",
    "circuit_w_5.cx(q[1],q[2]) \n",
    "circuit_w_5.cx(q[0],q[1])\n",
    "\n",
    "# if flag_qx2 : # option ibmqx2 \n",
    "#     circuit_w_5.cx(q[1],q[2]) # cNOT 43\n",
    "#     circuit_w_5.cx(q[0],q[1]) # cNOT 54\n",
    "#     \n",
    "# else :        # option ibmqx4 \n",
    "#     cxrv(circuit_w_5,q,1,2)\n",
    "#     cxrv(circuit_w_5,q,0,1)     \n",
    "    \n",
    "for i in range(5) :\n",
    "    circuit_w_5.measure(q[i] , c[i]) \n",
    "print(circuit_w_5)"
   ]
  },
  {
   "cell_type": "code",
   "execution_count": 56,
   "metadata": {},
   "outputs": [
    {
     "output_type": "stream",
     "name": "stdout",
     "text": [
      "start on <qiskit.providers.aer.aerjob.AerJob object at 0x7ff2c3094880> N= 20000 14/04/2021 20:08:00\n",
      "end on <qiskit.providers.aer.aerjob.AerJob object at 0x7ff2c3094880> N= 20000 14/04/2021 20:08:00\n",
      "{'00001': 4014, '00100': 3971, '01000': 4003, '10000': 4015, '00010': 3997}\n"
     ]
    }
   ],
   "source": [
    "backend = Aer.get_backend('qasm_simulator')\n",
    "\n",
    "raw_data, counts = create_datasource(backend, circuit_w_5, 20000)\n",
    "print(counts)\n",
    "datasource = normalize(raw_data)\n"
   ]
  },
  {
   "cell_type": "code",
   "execution_count": 61,
   "metadata": {},
   "outputs": [
    {
     "output_type": "stream",
     "name": "stdout",
     "text": [
      "start on <qiskit.providers.aer.aerjob.AerJob object at 0x7ff2c2ffbca0> N= 20000 14/04/2021 20:11:20\n",
      "end on <qiskit.providers.aer.aerjob.AerJob object at 0x7ff2c2ffbca0> N= 20000 14/04/2021 20:11:20\n",
      "{'11100': 17, '10101': 3, '00101': 75, '01001': 112, '11000': 75, '00001': 3615, '11010': 32, '01011': 25, '10010': 80, '10111': 1, '01101': 34, '01110': 35, '10011': 27, '01010': 127, '10100': 80, '00111': 35, '10000': 3740, '11001': 24, '10110': 12, '00110': 98, '00011': 85, '01100': 126, '00100': 3638, '00000': 508, '00010': 3627, '10001': 48, '01000': 3721}\n"
     ]
    }
   ],
   "source": [
    "from qiskit.test.mock import FakeSantiago\n",
    "from qiskit.providers.aer import QasmSimulator\n",
    "\n",
    "backendSantiagoFake = FakeSantiago()\n",
    "santiago_simulator = QasmSimulator.from_backend(backendSantiagoFake)\n",
    "\n",
    "raw_data2, counts2 = create_datasource(santiago_simulator, circuit_w_5, 20000)\n",
    "print(counts2)\n",
    "datasourceSimulator = normalize(raw_data2)"
   ]
  },
  {
   "cell_type": "code",
   "execution_count": 85,
   "metadata": {},
   "outputs": [],
   "source": [
    "# vars\n",
    "nqbits = 5\n",
    "hiddenUnits = 5\n",
    "visibleUnits = nqbits # number of bits\n",
    "\n",
    "#initialize neurons\n",
    "vb = tf.Variable(tf.zeros([visibleUnits]), tf.float32) #Visual Layer\n",
    "hb = tf.Variable(tf.zeros([hiddenUnits]), tf.float32) #Hidden Layer\n",
    "W = tf.Variable(tf.zeros([visibleUnits, hiddenUnits]), tf.float32) # Pesos entre las neuronas\n",
    "\n",
    "v0 = tf.zeros([visibleUnits], tf.float32)"
   ]
  },
  {
   "cell_type": "code",
   "execution_count": 86,
   "metadata": {},
   "outputs": [],
   "source": [
    "#useful functions\n",
    "#Phase 1: Input Processing\n",
    "#defining a function to return only the generated hidden states \n",
    "def hidden_layer(v0_state, W, hb):\n",
    "    h0_prob = tf.nn.sigmoid(tf.matmul([v0_state], W) + hb)  #probabilities of the hidden units\n",
    "    h0_state = tf.nn.relu(tf.sign(h0_prob - tf.random.uniform(tf.shape(h0_prob)))) #sample_h_given_X\n",
    "    return h0_state\n",
    "\n",
    "#printing output of zeros input\n",
    "h0 = hidden_layer(v0, W, hb)\n",
    "\n",
    "def reconstructed_output(h0_state, W, vb):\n",
    "    v1_prob = tf.nn.sigmoid(tf.matmul(h0_state, tf.transpose(W)) + vb) \n",
    "    v1_state = tf.nn.relu(tf.sign(v1_prob - tf.random.uniform(tf.shape(v1_prob)))) #sample_v_given_h\n",
    "    return v1_state[0]\n",
    "\n",
    "\n",
    "v1 = reconstructed_output(h0, W, vb)"
   ]
  },
  {
   "cell_type": "code",
   "execution_count": 87,
   "metadata": {},
   "outputs": [
    {
     "output_type": "stream",
     "name": "stdout",
     "text": [
      "error 0.4\n"
     ]
    }
   ],
   "source": [
    "# error function\n",
    "def error(v0_state, v1_state):\n",
    "    return tf.reduce_mean(tf.square(v0_state - v1_state))\n",
    "err = tf.reduce_mean(tf.square(v0 - v1))\n",
    "print(\"error\" , err.numpy())"
   ]
  },
  {
   "cell_type": "code",
   "execution_count": 73,
   "metadata": {},
   "outputs": [],
   "source": [
    "epochs = 1\n",
    "batchsize = 1000\n",
    "errors = []\n",
    "weights = []\n",
    "K=1\n",
    "alpha = 0.1\n"
   ]
  },
  {
   "cell_type": "code",
   "execution_count": 83,
   "metadata": {},
   "outputs": [],
   "source": [
    "def train_net(ds, W, hb, vb):\n",
    "    epochs = 1\n",
    "    batchsize = 1000\n",
    "    errors = []\n",
    "    weights = []\n",
    "    K=1\n",
    "    alpha = 0.1\n",
    "    \n",
    "    v0_state=v0\n",
    "    for epoch in range(epochs):\n",
    "        batch_number = 0\n",
    "        for batch_x in ds:\n",
    "            for i_sample in range(len(batch_x)):           \n",
    "                for k in range(K):\n",
    "                    v0_state = batch_x[i_sample]\n",
    "                    h0_state = hidden_layer(v0_state, W, hb)\n",
    "                    v1_state = reconstructed_output(h0_state, W, vb)\n",
    "                    h1_state = hidden_layer(v1_state, W, hb)\n",
    "\n",
    "                    delta_W = tf.matmul(tf.transpose([v0_state]), h0_state) - tf.matmul(tf.transpose([v1_state]), h1_state)\n",
    "                    W = W + alpha * delta_W\n",
    "\n",
    "                    vb = vb + alpha * tf.reduce_mean(v0_state - v1_state, 0)\n",
    "                    hb = hb + alpha * tf.reduce_mean(h0_state - h1_state, 0) \n",
    "\n",
    "                    v0_state = v1_state\n",
    "                \n",
    "                if i_sample == len(batch_x)-1:\n",
    "                    err = error(batch_x[i_sample], v1_state)\n",
    "                    errors.append(err)\n",
    "                    weights.append(W)\n",
    "                    print ( 'Epoch: %d' % (epoch + 1), \n",
    "                        \"batch #: %i \" % batch_number, \"of %i\" % (len(datasource)/batchsize)                        ,\n",
    "                        \"sample #: %i\" % i_sample,\n",
    "                        'reconstruction error: %f' % err)\n",
    "            batch_number += 1\n",
    "    # plot \n",
    "    plt.plot(errors)\n",
    "    plt.ylabel('Error')\n",
    "    plt.xlabel('Epoch')\n",
    "    plt.show()\n"
   ]
  },
  {
   "cell_type": "code",
   "execution_count": 88,
   "metadata": {},
   "outputs": [
    {
     "output_type": "stream",
     "name": "stdout",
     "text": [
      "Epoch: 1 batch #: 0  of 20 sample #: 999 reconstruction error: 0.200000\n",
      "Epoch: 1 batch #: 1  of 20 sample #: 999 reconstruction error: 0.200000\n",
      "Epoch: 1 batch #: 2  of 20 sample #: 999 reconstruction error: 0.200000\n",
      "Epoch: 1 batch #: 3  of 20 sample #: 999 reconstruction error: 0.400000\n",
      "Epoch: 1 batch #: 4  of 20 sample #: 999 reconstruction error: 0.400000\n",
      "Epoch: 1 batch #: 5  of 20 sample #: 999 reconstruction error: 0.400000\n",
      "Epoch: 1 batch #: 6  of 20 sample #: 999 reconstruction error: 0.400000\n",
      "Epoch: 1 batch #: 7  of 20 sample #: 999 reconstruction error: 0.400000\n",
      "Epoch: 1 batch #: 8  of 20 sample #: 999 reconstruction error: 0.000000\n",
      "Epoch: 1 batch #: 9  of 20 sample #: 999 reconstruction error: 0.400000\n",
      "Epoch: 1 batch #: 10  of 20 sample #: 999 reconstruction error: 0.600000\n",
      "Epoch: 1 batch #: 11  of 20 sample #: 999 reconstruction error: 0.000000\n",
      "Epoch: 1 batch #: 12  of 20 sample #: 999 reconstruction error: 0.200000\n",
      "Epoch: 1 batch #: 13  of 20 sample #: 999 reconstruction error: 0.000000\n",
      "Epoch: 1 batch #: 14  of 20 sample #: 999 reconstruction error: 0.000000\n",
      "Epoch: 1 batch #: 15  of 20 sample #: 999 reconstruction error: 0.000000\n",
      "Epoch: 1 batch #: 16  of 20 sample #: 999 reconstruction error: 0.000000\n",
      "Epoch: 1 batch #: 17  of 20 sample #: 999 reconstruction error: 0.000000\n",
      "Epoch: 1 batch #: 18  of 20 sample #: 999 reconstruction error: 0.000000\n",
      "Epoch: 1 batch #: 19  of 20 sample #: 999 reconstruction error: 0.000000\n"
     ]
    },
    {
     "output_type": "display_data",
     "data": {
      "text/plain": "<Figure size 432x288 with 1 Axes>",
      "image/svg+xml": "<?xml version=\"1.0\" encoding=\"utf-8\" standalone=\"no\"?>\n<!DOCTYPE svg PUBLIC \"-//W3C//DTD SVG 1.1//EN\"\n  \"http://www.w3.org/Graphics/SVG/1.1/DTD/svg11.dtd\">\n<!-- Created with matplotlib (https://matplotlib.org/) -->\n<svg height=\"262.19625pt\" version=\"1.1\" viewBox=\"0 0 385.78125 262.19625\" width=\"385.78125pt\" xmlns=\"http://www.w3.org/2000/svg\" xmlns:xlink=\"http://www.w3.org/1999/xlink\">\n <metadata>\n  <rdf:RDF xmlns:cc=\"http://creativecommons.org/ns#\" xmlns:dc=\"http://purl.org/dc/elements/1.1/\" xmlns:rdf=\"http://www.w3.org/1999/02/22-rdf-syntax-ns#\">\n   <cc:Work>\n    <dc:type rdf:resource=\"http://purl.org/dc/dcmitype/StillImage\"/>\n    <dc:date>2021-04-14T20:32:03.525223</dc:date>\n    <dc:format>image/svg+xml</dc:format>\n    <dc:creator>\n     <cc:Agent>\n      <dc:title>Matplotlib v3.3.4, https://matplotlib.org/</dc:title>\n     </cc:Agent>\n    </dc:creator>\n   </cc:Work>\n  </rdf:RDF>\n </metadata>\n <defs>\n  <style type=\"text/css\">*{stroke-linecap:butt;stroke-linejoin:round;}</style>\n </defs>\n <g id=\"figure_1\">\n  <g id=\"patch_1\">\n   <path d=\"M 0 262.19625 \nL 385.78125 262.19625 \nL 385.78125 0 \nL 0 0 \nz\n\" style=\"fill:none;\"/>\n  </g>\n  <g id=\"axes_1\">\n   <g id=\"patch_2\">\n    <path d=\"M 43.78125 224.64 \nL 378.58125 224.64 \nL 378.58125 7.2 \nL 43.78125 7.2 \nz\n\" style=\"fill:#ffffff;\"/>\n   </g>\n   <g id=\"matplotlib.axis_1\">\n    <g id=\"xtick_1\">\n     <g id=\"line2d_1\">\n      <defs>\n       <path d=\"M 0 0 \nL 0 3.5 \n\" id=\"me888c831e2\" style=\"stroke:#000000;stroke-width:0.8;\"/>\n      </defs>\n      <g>\n       <use style=\"stroke:#000000;stroke-width:0.8;\" x=\"58.999432\" xlink:href=\"#me888c831e2\" y=\"224.64\"/>\n      </g>\n     </g>\n     <g id=\"text_1\">\n      <!-- 0.0 -->\n      <g transform=\"translate(51.047869 239.238437)scale(0.1 -0.1)\">\n       <defs>\n        <path d=\"M 31.78125 66.40625 \nQ 24.171875 66.40625 20.328125 58.90625 \nQ 16.5 51.421875 16.5 36.375 \nQ 16.5 21.390625 20.328125 13.890625 \nQ 24.171875 6.390625 31.78125 6.390625 \nQ 39.453125 6.390625 43.28125 13.890625 \nQ 47.125 21.390625 47.125 36.375 \nQ 47.125 51.421875 43.28125 58.90625 \nQ 39.453125 66.40625 31.78125 66.40625 \nz\nM 31.78125 74.21875 \nQ 44.046875 74.21875 50.515625 64.515625 \nQ 56.984375 54.828125 56.984375 36.375 \nQ 56.984375 17.96875 50.515625 8.265625 \nQ 44.046875 -1.421875 31.78125 -1.421875 \nQ 19.53125 -1.421875 13.0625 8.265625 \nQ 6.59375 17.96875 6.59375 36.375 \nQ 6.59375 54.828125 13.0625 64.515625 \nQ 19.53125 74.21875 31.78125 74.21875 \nz\n\" id=\"DejaVuSans-48\"/>\n        <path d=\"M 10.6875 12.40625 \nL 21 12.40625 \nL 21 0 \nL 10.6875 0 \nz\n\" id=\"DejaVuSans-46\"/>\n       </defs>\n       <use xlink:href=\"#DejaVuSans-48\"/>\n       <use x=\"63.623047\" xlink:href=\"#DejaVuSans-46\"/>\n       <use x=\"95.410156\" xlink:href=\"#DejaVuSans-48\"/>\n      </g>\n     </g>\n    </g>\n    <g id=\"xtick_2\">\n     <g id=\"line2d_2\">\n      <g>\n       <use style=\"stroke:#000000;stroke-width:0.8;\" x=\"99.047279\" xlink:href=\"#me888c831e2\" y=\"224.64\"/>\n      </g>\n     </g>\n     <g id=\"text_2\">\n      <!-- 2.5 -->\n      <g transform=\"translate(91.095716 239.238437)scale(0.1 -0.1)\">\n       <defs>\n        <path d=\"M 19.1875 8.296875 \nL 53.609375 8.296875 \nL 53.609375 0 \nL 7.328125 0 \nL 7.328125 8.296875 \nQ 12.9375 14.109375 22.625 23.890625 \nQ 32.328125 33.6875 34.8125 36.53125 \nQ 39.546875 41.84375 41.421875 45.53125 \nQ 43.3125 49.21875 43.3125 52.78125 \nQ 43.3125 58.59375 39.234375 62.25 \nQ 35.15625 65.921875 28.609375 65.921875 \nQ 23.96875 65.921875 18.8125 64.3125 \nQ 13.671875 62.703125 7.8125 59.421875 \nL 7.8125 69.390625 \nQ 13.765625 71.78125 18.9375 73 \nQ 24.125 74.21875 28.421875 74.21875 \nQ 39.75 74.21875 46.484375 68.546875 \nQ 53.21875 62.890625 53.21875 53.421875 \nQ 53.21875 48.921875 51.53125 44.890625 \nQ 49.859375 40.875 45.40625 35.40625 \nQ 44.1875 33.984375 37.640625 27.21875 \nQ 31.109375 20.453125 19.1875 8.296875 \nz\n\" id=\"DejaVuSans-50\"/>\n        <path d=\"M 10.796875 72.90625 \nL 49.515625 72.90625 \nL 49.515625 64.59375 \nL 19.828125 64.59375 \nL 19.828125 46.734375 \nQ 21.96875 47.46875 24.109375 47.828125 \nQ 26.265625 48.1875 28.421875 48.1875 \nQ 40.625 48.1875 47.75 41.5 \nQ 54.890625 34.8125 54.890625 23.390625 \nQ 54.890625 11.625 47.5625 5.09375 \nQ 40.234375 -1.421875 26.90625 -1.421875 \nQ 22.3125 -1.421875 17.546875 -0.640625 \nQ 12.796875 0.140625 7.71875 1.703125 \nL 7.71875 11.625 \nQ 12.109375 9.234375 16.796875 8.0625 \nQ 21.484375 6.890625 26.703125 6.890625 \nQ 35.15625 6.890625 40.078125 11.328125 \nQ 45.015625 15.765625 45.015625 23.390625 \nQ 45.015625 31 40.078125 35.4375 \nQ 35.15625 39.890625 26.703125 39.890625 \nQ 22.75 39.890625 18.8125 39.015625 \nQ 14.890625 38.140625 10.796875 36.28125 \nz\n\" id=\"DejaVuSans-53\"/>\n       </defs>\n       <use xlink:href=\"#DejaVuSans-50\"/>\n       <use x=\"63.623047\" xlink:href=\"#DejaVuSans-46\"/>\n       <use x=\"95.410156\" xlink:href=\"#DejaVuSans-53\"/>\n      </g>\n     </g>\n    </g>\n    <g id=\"xtick_3\">\n     <g id=\"line2d_3\">\n      <g>\n       <use style=\"stroke:#000000;stroke-width:0.8;\" x=\"139.095126\" xlink:href=\"#me888c831e2\" y=\"224.64\"/>\n      </g>\n     </g>\n     <g id=\"text_3\">\n      <!-- 5.0 -->\n      <g transform=\"translate(131.143563 239.238437)scale(0.1 -0.1)\">\n       <use xlink:href=\"#DejaVuSans-53\"/>\n       <use x=\"63.623047\" xlink:href=\"#DejaVuSans-46\"/>\n       <use x=\"95.410156\" xlink:href=\"#DejaVuSans-48\"/>\n      </g>\n     </g>\n    </g>\n    <g id=\"xtick_4\">\n     <g id=\"line2d_4\">\n      <g>\n       <use style=\"stroke:#000000;stroke-width:0.8;\" x=\"179.142972\" xlink:href=\"#me888c831e2\" y=\"224.64\"/>\n      </g>\n     </g>\n     <g id=\"text_4\">\n      <!-- 7.5 -->\n      <g transform=\"translate(171.19141 239.238437)scale(0.1 -0.1)\">\n       <defs>\n        <path d=\"M 8.203125 72.90625 \nL 55.078125 72.90625 \nL 55.078125 68.703125 \nL 28.609375 0 \nL 18.3125 0 \nL 43.21875 64.59375 \nL 8.203125 64.59375 \nz\n\" id=\"DejaVuSans-55\"/>\n       </defs>\n       <use xlink:href=\"#DejaVuSans-55\"/>\n       <use x=\"63.623047\" xlink:href=\"#DejaVuSans-46\"/>\n       <use x=\"95.410156\" xlink:href=\"#DejaVuSans-53\"/>\n      </g>\n     </g>\n    </g>\n    <g id=\"xtick_5\">\n     <g id=\"line2d_5\">\n      <g>\n       <use style=\"stroke:#000000;stroke-width:0.8;\" x=\"219.190819\" xlink:href=\"#me888c831e2\" y=\"224.64\"/>\n      </g>\n     </g>\n     <g id=\"text_5\">\n      <!-- 10.0 -->\n      <g transform=\"translate(208.058007 239.238437)scale(0.1 -0.1)\">\n       <defs>\n        <path d=\"M 12.40625 8.296875 \nL 28.515625 8.296875 \nL 28.515625 63.921875 \nL 10.984375 60.40625 \nL 10.984375 69.390625 \nL 28.421875 72.90625 \nL 38.28125 72.90625 \nL 38.28125 8.296875 \nL 54.390625 8.296875 \nL 54.390625 0 \nL 12.40625 0 \nz\n\" id=\"DejaVuSans-49\"/>\n       </defs>\n       <use xlink:href=\"#DejaVuSans-49\"/>\n       <use x=\"63.623047\" xlink:href=\"#DejaVuSans-48\"/>\n       <use x=\"127.246094\" xlink:href=\"#DejaVuSans-46\"/>\n       <use x=\"159.033203\" xlink:href=\"#DejaVuSans-48\"/>\n      </g>\n     </g>\n    </g>\n    <g id=\"xtick_6\">\n     <g id=\"line2d_6\">\n      <g>\n       <use style=\"stroke:#000000;stroke-width:0.8;\" x=\"259.238666\" xlink:href=\"#me888c831e2\" y=\"224.64\"/>\n      </g>\n     </g>\n     <g id=\"text_6\">\n      <!-- 12.5 -->\n      <g transform=\"translate(248.105854 239.238437)scale(0.1 -0.1)\">\n       <use xlink:href=\"#DejaVuSans-49\"/>\n       <use x=\"63.623047\" xlink:href=\"#DejaVuSans-50\"/>\n       <use x=\"127.246094\" xlink:href=\"#DejaVuSans-46\"/>\n       <use x=\"159.033203\" xlink:href=\"#DejaVuSans-53\"/>\n      </g>\n     </g>\n    </g>\n    <g id=\"xtick_7\">\n     <g id=\"line2d_7\">\n      <g>\n       <use style=\"stroke:#000000;stroke-width:0.8;\" x=\"299.286513\" xlink:href=\"#me888c831e2\" y=\"224.64\"/>\n      </g>\n     </g>\n     <g id=\"text_7\">\n      <!-- 15.0 -->\n      <g transform=\"translate(288.153701 239.238437)scale(0.1 -0.1)\">\n       <use xlink:href=\"#DejaVuSans-49\"/>\n       <use x=\"63.623047\" xlink:href=\"#DejaVuSans-53\"/>\n       <use x=\"127.246094\" xlink:href=\"#DejaVuSans-46\"/>\n       <use x=\"159.033203\" xlink:href=\"#DejaVuSans-48\"/>\n      </g>\n     </g>\n    </g>\n    <g id=\"xtick_8\">\n     <g id=\"line2d_8\">\n      <g>\n       <use style=\"stroke:#000000;stroke-width:0.8;\" x=\"339.33436\" xlink:href=\"#me888c831e2\" y=\"224.64\"/>\n      </g>\n     </g>\n     <g id=\"text_8\">\n      <!-- 17.5 -->\n      <g transform=\"translate(328.201548 239.238437)scale(0.1 -0.1)\">\n       <use xlink:href=\"#DejaVuSans-49\"/>\n       <use x=\"63.623047\" xlink:href=\"#DejaVuSans-55\"/>\n       <use x=\"127.246094\" xlink:href=\"#DejaVuSans-46\"/>\n       <use x=\"159.033203\" xlink:href=\"#DejaVuSans-53\"/>\n      </g>\n     </g>\n    </g>\n    <g id=\"text_9\">\n     <!-- Epoch -->\n     <g transform=\"translate(195.870313 252.916562)scale(0.1 -0.1)\">\n      <defs>\n       <path d=\"M 9.8125 72.90625 \nL 55.90625 72.90625 \nL 55.90625 64.59375 \nL 19.671875 64.59375 \nL 19.671875 43.015625 \nL 54.390625 43.015625 \nL 54.390625 34.71875 \nL 19.671875 34.71875 \nL 19.671875 8.296875 \nL 56.78125 8.296875 \nL 56.78125 0 \nL 9.8125 0 \nz\n\" id=\"DejaVuSans-69\"/>\n       <path d=\"M 18.109375 8.203125 \nL 18.109375 -20.796875 \nL 9.078125 -20.796875 \nL 9.078125 54.6875 \nL 18.109375 54.6875 \nL 18.109375 46.390625 \nQ 20.953125 51.265625 25.265625 53.625 \nQ 29.59375 56 35.59375 56 \nQ 45.5625 56 51.78125 48.09375 \nQ 58.015625 40.1875 58.015625 27.296875 \nQ 58.015625 14.40625 51.78125 6.484375 \nQ 45.5625 -1.421875 35.59375 -1.421875 \nQ 29.59375 -1.421875 25.265625 0.953125 \nQ 20.953125 3.328125 18.109375 8.203125 \nz\nM 48.6875 27.296875 \nQ 48.6875 37.203125 44.609375 42.84375 \nQ 40.53125 48.484375 33.40625 48.484375 \nQ 26.265625 48.484375 22.1875 42.84375 \nQ 18.109375 37.203125 18.109375 27.296875 \nQ 18.109375 17.390625 22.1875 11.75 \nQ 26.265625 6.109375 33.40625 6.109375 \nQ 40.53125 6.109375 44.609375 11.75 \nQ 48.6875 17.390625 48.6875 27.296875 \nz\n\" id=\"DejaVuSans-112\"/>\n       <path d=\"M 30.609375 48.390625 \nQ 23.390625 48.390625 19.1875 42.75 \nQ 14.984375 37.109375 14.984375 27.296875 \nQ 14.984375 17.484375 19.15625 11.84375 \nQ 23.34375 6.203125 30.609375 6.203125 \nQ 37.796875 6.203125 41.984375 11.859375 \nQ 46.1875 17.53125 46.1875 27.296875 \nQ 46.1875 37.015625 41.984375 42.703125 \nQ 37.796875 48.390625 30.609375 48.390625 \nz\nM 30.609375 56 \nQ 42.328125 56 49.015625 48.375 \nQ 55.71875 40.765625 55.71875 27.296875 \nQ 55.71875 13.875 49.015625 6.21875 \nQ 42.328125 -1.421875 30.609375 -1.421875 \nQ 18.84375 -1.421875 12.171875 6.21875 \nQ 5.515625 13.875 5.515625 27.296875 \nQ 5.515625 40.765625 12.171875 48.375 \nQ 18.84375 56 30.609375 56 \nz\n\" id=\"DejaVuSans-111\"/>\n       <path d=\"M 48.78125 52.59375 \nL 48.78125 44.1875 \nQ 44.96875 46.296875 41.140625 47.34375 \nQ 37.3125 48.390625 33.40625 48.390625 \nQ 24.65625 48.390625 19.8125 42.84375 \nQ 14.984375 37.3125 14.984375 27.296875 \nQ 14.984375 17.28125 19.8125 11.734375 \nQ 24.65625 6.203125 33.40625 6.203125 \nQ 37.3125 6.203125 41.140625 7.25 \nQ 44.96875 8.296875 48.78125 10.40625 \nL 48.78125 2.09375 \nQ 45.015625 0.34375 40.984375 -0.53125 \nQ 36.96875 -1.421875 32.421875 -1.421875 \nQ 20.0625 -1.421875 12.78125 6.34375 \nQ 5.515625 14.109375 5.515625 27.296875 \nQ 5.515625 40.671875 12.859375 48.328125 \nQ 20.21875 56 33.015625 56 \nQ 37.15625 56 41.109375 55.140625 \nQ 45.0625 54.296875 48.78125 52.59375 \nz\n\" id=\"DejaVuSans-99\"/>\n       <path d=\"M 54.890625 33.015625 \nL 54.890625 0 \nL 45.90625 0 \nL 45.90625 32.71875 \nQ 45.90625 40.484375 42.875 44.328125 \nQ 39.84375 48.1875 33.796875 48.1875 \nQ 26.515625 48.1875 22.3125 43.546875 \nQ 18.109375 38.921875 18.109375 30.90625 \nL 18.109375 0 \nL 9.078125 0 \nL 9.078125 75.984375 \nL 18.109375 75.984375 \nL 18.109375 46.1875 \nQ 21.34375 51.125 25.703125 53.5625 \nQ 30.078125 56 35.796875 56 \nQ 45.21875 56 50.046875 50.171875 \nQ 54.890625 44.34375 54.890625 33.015625 \nz\n\" id=\"DejaVuSans-104\"/>\n      </defs>\n      <use xlink:href=\"#DejaVuSans-69\"/>\n      <use x=\"63.183594\" xlink:href=\"#DejaVuSans-112\"/>\n      <use x=\"126.660156\" xlink:href=\"#DejaVuSans-111\"/>\n      <use x=\"187.841797\" xlink:href=\"#DejaVuSans-99\"/>\n      <use x=\"242.822266\" xlink:href=\"#DejaVuSans-104\"/>\n     </g>\n    </g>\n   </g>\n   <g id=\"matplotlib.axis_2\">\n    <g id=\"ytick_1\">\n     <g id=\"line2d_9\">\n      <defs>\n       <path d=\"M 0 0 \nL -3.5 0 \n\" id=\"m3873b8fc80\" style=\"stroke:#000000;stroke-width:0.8;\"/>\n      </defs>\n      <g>\n       <use style=\"stroke:#000000;stroke-width:0.8;\" x=\"43.78125\" xlink:href=\"#m3873b8fc80\" y=\"214.756364\"/>\n      </g>\n     </g>\n     <g id=\"text_10\">\n      <!-- 0.0 -->\n      <g transform=\"translate(20.878125 218.555582)scale(0.1 -0.1)\">\n       <use xlink:href=\"#DejaVuSans-48\"/>\n       <use x=\"63.623047\" xlink:href=\"#DejaVuSans-46\"/>\n       <use x=\"95.410156\" xlink:href=\"#DejaVuSans-48\"/>\n      </g>\n     </g>\n    </g>\n    <g id=\"ytick_2\">\n     <g id=\"line2d_10\">\n      <g>\n       <use style=\"stroke:#000000;stroke-width:0.8;\" x=\"43.78125\" xlink:href=\"#m3873b8fc80\" y=\"181.81091\"/>\n      </g>\n     </g>\n     <g id=\"text_11\">\n      <!-- 0.1 -->\n      <g transform=\"translate(20.878125 185.610129)scale(0.1 -0.1)\">\n       <use xlink:href=\"#DejaVuSans-48\"/>\n       <use x=\"63.623047\" xlink:href=\"#DejaVuSans-46\"/>\n       <use x=\"95.410156\" xlink:href=\"#DejaVuSans-49\"/>\n      </g>\n     </g>\n    </g>\n    <g id=\"ytick_3\">\n     <g id=\"line2d_11\">\n      <g>\n       <use style=\"stroke:#000000;stroke-width:0.8;\" x=\"43.78125\" xlink:href=\"#m3873b8fc80\" y=\"148.865457\"/>\n      </g>\n     </g>\n     <g id=\"text_12\">\n      <!-- 0.2 -->\n      <g transform=\"translate(20.878125 152.664676)scale(0.1 -0.1)\">\n       <use xlink:href=\"#DejaVuSans-48\"/>\n       <use x=\"63.623047\" xlink:href=\"#DejaVuSans-46\"/>\n       <use x=\"95.410156\" xlink:href=\"#DejaVuSans-50\"/>\n      </g>\n     </g>\n    </g>\n    <g id=\"ytick_4\">\n     <g id=\"line2d_12\">\n      <g>\n       <use style=\"stroke:#000000;stroke-width:0.8;\" x=\"43.78125\" xlink:href=\"#m3873b8fc80\" y=\"115.920004\"/>\n      </g>\n     </g>\n     <g id=\"text_13\">\n      <!-- 0.3 -->\n      <g transform=\"translate(20.878125 119.719223)scale(0.1 -0.1)\">\n       <defs>\n        <path d=\"M 40.578125 39.3125 \nQ 47.65625 37.796875 51.625 33 \nQ 55.609375 28.21875 55.609375 21.1875 \nQ 55.609375 10.40625 48.1875 4.484375 \nQ 40.765625 -1.421875 27.09375 -1.421875 \nQ 22.515625 -1.421875 17.65625 -0.515625 \nQ 12.796875 0.390625 7.625 2.203125 \nL 7.625 11.71875 \nQ 11.71875 9.328125 16.59375 8.109375 \nQ 21.484375 6.890625 26.8125 6.890625 \nQ 36.078125 6.890625 40.9375 10.546875 \nQ 45.796875 14.203125 45.796875 21.1875 \nQ 45.796875 27.640625 41.28125 31.265625 \nQ 36.765625 34.90625 28.71875 34.90625 \nL 20.21875 34.90625 \nL 20.21875 43.015625 \nL 29.109375 43.015625 \nQ 36.375 43.015625 40.234375 45.921875 \nQ 44.09375 48.828125 44.09375 54.296875 \nQ 44.09375 59.90625 40.109375 62.90625 \nQ 36.140625 65.921875 28.71875 65.921875 \nQ 24.65625 65.921875 20.015625 65.03125 \nQ 15.375 64.15625 9.8125 62.3125 \nL 9.8125 71.09375 \nQ 15.4375 72.65625 20.34375 73.4375 \nQ 25.25 74.21875 29.59375 74.21875 \nQ 40.828125 74.21875 47.359375 69.109375 \nQ 53.90625 64.015625 53.90625 55.328125 \nQ 53.90625 49.265625 50.4375 45.09375 \nQ 46.96875 40.921875 40.578125 39.3125 \nz\n\" id=\"DejaVuSans-51\"/>\n       </defs>\n       <use xlink:href=\"#DejaVuSans-48\"/>\n       <use x=\"63.623047\" xlink:href=\"#DejaVuSans-46\"/>\n       <use x=\"95.410156\" xlink:href=\"#DejaVuSans-51\"/>\n      </g>\n     </g>\n    </g>\n    <g id=\"ytick_5\">\n     <g id=\"line2d_13\">\n      <g>\n       <use style=\"stroke:#000000;stroke-width:0.8;\" x=\"43.78125\" xlink:href=\"#m3873b8fc80\" y=\"82.974551\"/>\n      </g>\n     </g>\n     <g id=\"text_14\">\n      <!-- 0.4 -->\n      <g transform=\"translate(20.878125 86.773769)scale(0.1 -0.1)\">\n       <defs>\n        <path d=\"M 37.796875 64.3125 \nL 12.890625 25.390625 \nL 37.796875 25.390625 \nz\nM 35.203125 72.90625 \nL 47.609375 72.90625 \nL 47.609375 25.390625 \nL 58.015625 25.390625 \nL 58.015625 17.1875 \nL 47.609375 17.1875 \nL 47.609375 0 \nL 37.796875 0 \nL 37.796875 17.1875 \nL 4.890625 17.1875 \nL 4.890625 26.703125 \nz\n\" id=\"DejaVuSans-52\"/>\n       </defs>\n       <use xlink:href=\"#DejaVuSans-48\"/>\n       <use x=\"63.623047\" xlink:href=\"#DejaVuSans-46\"/>\n       <use x=\"95.410156\" xlink:href=\"#DejaVuSans-52\"/>\n      </g>\n     </g>\n    </g>\n    <g id=\"ytick_6\">\n     <g id=\"line2d_14\">\n      <g>\n       <use style=\"stroke:#000000;stroke-width:0.8;\" x=\"43.78125\" xlink:href=\"#m3873b8fc80\" y=\"50.029097\"/>\n      </g>\n     </g>\n     <g id=\"text_15\">\n      <!-- 0.5 -->\n      <g transform=\"translate(20.878125 53.828316)scale(0.1 -0.1)\">\n       <use xlink:href=\"#DejaVuSans-48\"/>\n       <use x=\"63.623047\" xlink:href=\"#DejaVuSans-46\"/>\n       <use x=\"95.410156\" xlink:href=\"#DejaVuSans-53\"/>\n      </g>\n     </g>\n    </g>\n    <g id=\"ytick_7\">\n     <g id=\"line2d_15\">\n      <g>\n       <use style=\"stroke:#000000;stroke-width:0.8;\" x=\"43.78125\" xlink:href=\"#m3873b8fc80\" y=\"17.083644\"/>\n      </g>\n     </g>\n     <g id=\"text_16\">\n      <!-- 0.6 -->\n      <g transform=\"translate(20.878125 20.882863)scale(0.1 -0.1)\">\n       <defs>\n        <path d=\"M 33.015625 40.375 \nQ 26.375 40.375 22.484375 35.828125 \nQ 18.609375 31.296875 18.609375 23.390625 \nQ 18.609375 15.53125 22.484375 10.953125 \nQ 26.375 6.390625 33.015625 6.390625 \nQ 39.65625 6.390625 43.53125 10.953125 \nQ 47.40625 15.53125 47.40625 23.390625 \nQ 47.40625 31.296875 43.53125 35.828125 \nQ 39.65625 40.375 33.015625 40.375 \nz\nM 52.59375 71.296875 \nL 52.59375 62.3125 \nQ 48.875 64.0625 45.09375 64.984375 \nQ 41.3125 65.921875 37.59375 65.921875 \nQ 27.828125 65.921875 22.671875 59.328125 \nQ 17.53125 52.734375 16.796875 39.40625 \nQ 19.671875 43.65625 24.015625 45.921875 \nQ 28.375 48.1875 33.59375 48.1875 \nQ 44.578125 48.1875 50.953125 41.515625 \nQ 57.328125 34.859375 57.328125 23.390625 \nQ 57.328125 12.15625 50.6875 5.359375 \nQ 44.046875 -1.421875 33.015625 -1.421875 \nQ 20.359375 -1.421875 13.671875 8.265625 \nQ 6.984375 17.96875 6.984375 36.375 \nQ 6.984375 53.65625 15.1875 63.9375 \nQ 23.390625 74.21875 37.203125 74.21875 \nQ 40.921875 74.21875 44.703125 73.484375 \nQ 48.484375 72.75 52.59375 71.296875 \nz\n\" id=\"DejaVuSans-54\"/>\n       </defs>\n       <use xlink:href=\"#DejaVuSans-48\"/>\n       <use x=\"63.623047\" xlink:href=\"#DejaVuSans-46\"/>\n       <use x=\"95.410156\" xlink:href=\"#DejaVuSans-54\"/>\n      </g>\n     </g>\n    </g>\n    <g id=\"text_17\">\n     <!-- Error -->\n     <g transform=\"translate(14.798438 128.105156)rotate(-90)scale(0.1 -0.1)\">\n      <defs>\n       <path d=\"M 41.109375 46.296875 \nQ 39.59375 47.171875 37.8125 47.578125 \nQ 36.03125 48 33.890625 48 \nQ 26.265625 48 22.1875 43.046875 \nQ 18.109375 38.09375 18.109375 28.8125 \nL 18.109375 0 \nL 9.078125 0 \nL 9.078125 54.6875 \nL 18.109375 54.6875 \nL 18.109375 46.1875 \nQ 20.953125 51.171875 25.484375 53.578125 \nQ 30.03125 56 36.53125 56 \nQ 37.453125 56 38.578125 55.875 \nQ 39.703125 55.765625 41.0625 55.515625 \nz\n\" id=\"DejaVuSans-114\"/>\n      </defs>\n      <use xlink:href=\"#DejaVuSans-69\"/>\n      <use x=\"63.183594\" xlink:href=\"#DejaVuSans-114\"/>\n      <use x=\"102.546875\" xlink:href=\"#DejaVuSans-114\"/>\n      <use x=\"141.410156\" xlink:href=\"#DejaVuSans-111\"/>\n      <use x=\"202.591797\" xlink:href=\"#DejaVuSans-114\"/>\n     </g>\n    </g>\n   </g>\n   <g id=\"line2d_16\">\n    <path clip-path=\"url(#pd40cb8c74c)\" d=\"M 58.999432 148.865456 \nL 75.018571 148.865456 \nL 91.037709 148.865456 \nL 107.056848 82.974549 \nL 123.075987 82.974549 \nL 139.095126 82.974549 \nL 155.114264 82.974549 \nL 171.133403 82.974549 \nL 187.152542 214.756364 \nL 203.171681 82.974549 \nL 219.190819 17.083636 \nL 235.209958 214.756364 \nL 251.229097 148.865456 \nL 267.248236 214.756364 \nL 283.267374 214.756364 \nL 299.286513 214.756364 \nL 315.305652 214.756364 \nL 331.324791 214.756364 \nL 347.343929 214.756364 \nL 363.363068 214.756364 \n\" style=\"fill:none;stroke:#1f77b4;stroke-linecap:square;stroke-width:1.5;\"/>\n   </g>\n   <g id=\"patch_3\">\n    <path d=\"M 43.78125 224.64 \nL 43.78125 7.2 \n\" style=\"fill:none;stroke:#000000;stroke-linecap:square;stroke-linejoin:miter;stroke-width:0.8;\"/>\n   </g>\n   <g id=\"patch_4\">\n    <path d=\"M 378.58125 224.64 \nL 378.58125 7.2 \n\" style=\"fill:none;stroke:#000000;stroke-linecap:square;stroke-linejoin:miter;stroke-width:0.8;\"/>\n   </g>\n   <g id=\"patch_5\">\n    <path d=\"M 43.78125 224.64 \nL 378.58125 224.64 \n\" style=\"fill:none;stroke:#000000;stroke-linecap:square;stroke-linejoin:miter;stroke-width:0.8;\"/>\n   </g>\n   <g id=\"patch_6\">\n    <path d=\"M 43.78125 7.2 \nL 378.58125 7.2 \n\" style=\"fill:none;stroke:#000000;stroke-linecap:square;stroke-linejoin:miter;stroke-width:0.8;\"/>\n   </g>\n  </g>\n </g>\n <defs>\n  <clipPath id=\"pd40cb8c74c\">\n   <rect height=\"217.44\" width=\"334.8\" x=\"43.78125\" y=\"7.2\"/>\n  </clipPath>\n </defs>\n</svg>\n",
      "image/png": "[encoded data removed]"
     },
     "metadata": {
      "needs_background": "light"
     }
    }
   ],
   "source": [
    "#creating datasets\n",
    "train_ds = \\\n",
    "    tf.data.Dataset.from_tensor_slices((np.float32(datasource))).batch(batchsize)\n",
    "# train_net(train_ds, W, hb, vb)\n",
    "\n",
    "#simulator dataset\n",
    "train_ds_simulator = \\\n",
    "    tf.data.Dataset.from_tensor_slices((np.float32(datasourceSimulator))).batch(batchsize)\n",
    "train_net(train_ds_simulator, W, hb, vb)\n"
   ]
  },
  {
   "cell_type": "code",
   "execution_count": 53,
   "metadata": {},
   "outputs": [
    {
     "output_type": "stream",
     "name": "stdout",
     "text": [
      "[[[0.700000048 -0.800000072 -0.800000072 -0.900000036 -0.5]\n [-0.700000048 -0.6 1.30000019 -1.1 -1.10000014]\n [1.30000007 0.0999999866 -0.6 -0.200000018 -0.5]\n [-1.20000017 0.299999982 0.9 -1.40000021 0.699999928]\n [-0.3 -0.800000072 -1.50000024 1.80000031 0.399999976]],\n [[0.799999952 -1.20000017 -2.00000024 -1.30000007 -2.10000014]\n [-1.50000024 -1.80000031 3.49999881 -1.30000007 -1.40000021]\n [1.50000012 -1.30000019 -1.40000021 -0.6 -1.60000026]\n [-1.90000021 3.99999857 -1.00000012 -1.20000017 -0.300000072]\n [0.199999988 -1.00000012 -1.90000021 1.70000017 2.49999976]],\n [[2.00000024 -2.10000014 -2.69999957 -1.50000012 -2.59999967]\n [-0.4 -2.59999967 4.99999762 -1.50000012 -1.60000026]\n [1.70000017 -2.10000014 -2.2 -1.20000017 -1.80000019]\n [-1.30000007 5.39999723 -1.80000031 -1.30000019 0.199999928]\n [-2.49999976 -2.79999948 -2.39999986 2.2 3.49999881]],\n [[2.49999976 -2.79999948 -3.79999852 -1.30000007 -2.49999976]\n [-1.00000012 -2.89999938 6.19999647 -1.30000007 -1.70000029]\n [2.49999976 -2.49999976 -2.99999928 -0.4 -2.10000014]\n [-2.59999967 6.29999638 -2.10000014 -1.80000031 -1.10000014]\n [-3.59999871 -3.19999909 -2.59999967 4.09999847 4.29999828]],\n [[2.3 -2.69999957 -3.99999857 -1.30000007 -2.49999976]\n [-2.10000014 -3.3999989 6.59999609 -1.30000007 -2.00000024]\n [2.10000014 -2.59999967 -3.299999 -0.5 -2.2]\n [-3.19999909 7.19999552 -2.3 -2.00000024 -1.40000021]\n [-3.69999862 -3.59999871 -2.89999938 4.19999838 5.39999723]],\n [[2.39999986 -3.09999919 -4.09999847 -1.80000019 -2.39999986]\n [-2.2 -3.299999 6.8999958 -1.2 -2.49999976]\n [2.3 -3.299999 -3.49999881 0.599999964 -2.39999986]\n [-2.59999967 7.69999504 -2.39999986 -2.3 -1.60000026]\n [-4.99999762 -3.69999862 -3.09999919 4.19999838 6.19999647]],\n [[3.49999881 -3.299999 -4.19999838 -2.99999928 -2.39999986]\n [-2.39999986 -3.19999909 7.49999523 -1.1 -2.59999967]\n [1.70000017 -3.299999 -3.69999862 3.09999919 -2.99999928]\n [-3.09999919 7.99999475 -2.3 -2.79999948 -2.00000024]\n [-5.79999685 -3.89999843 -3.09999919 2.69999981 6.8999958]],\n [[3.99999857 -3.69999862 -4.39999819 -4.19999838 -2.59999967]\n [-2.00000024 -3.19999909 8.09999466 -1.50000012 -2.69999957]\n [0.199999928 -3.49999881 -4.09999847 4.89999771 -3.89999843]\n [-3.79999876 7.99999475 -2.69999957 -3.09999919 -2.2]\n [-5.79999685 -3.99999833 -3.299999 0.900000215 7.29999542]],\n [[4.79999781 -3.89999843 -4.79999781 -5.09999752 -2.59999967]\n [-1.90000021 -3.3999989 8.19999504 -1.4000001 -2.69999957]\n [1.1 -3.49999881 -4.09999847 5.39999723 -4.49999809]\n [-4.29999828 8.3999958 -2.89999938 -3.19999909 -2.3]\n [-5.69999695 -4.09999847 -3.3999989 0.600000143 7.09999561]],\n [[5.39999723 -3.99999833 -4.89999771 -5.49999714 -2.49999976]\n [-1.80000019 -3.49999881 8.49999619 -1.4000001 -2.79999948]\n [-0.700000107 -3.59999871 -4.19999838 5.99999666 -5.09999752]\n [-4.6999979 8.59999657 -3.09999919 -3.3999989 -2.10000014]\n [-5.69999695 -4.19999838 -3.59999871 -0.699999869 7.59999514]],\n [[5.39999723 -3.99999833 -5.39999723 -6.09999657 -2.59999967]\n [-1.2 -3.49999881 8.79999733 -1.4000001 -2.89999938]\n [-1.00000012 -3.89999843 -4.49999809 6.59999609 -5.59999704]\n [-4.599998 9.19999886 -3.3999989 -3.49999881 -2.3]\n [-5.59999704 -4.29999828 -3.69999862 -0.0999998674 7.79999495]],\n [[5.69999695 -4.19999838 -5.79999685 -6.49999619 -2.69999957]\n [-2.3 -3.59999871 9.09999847 -1.60000014 -2.69999957]\n [-0.5 -4.19999838 -4.6999979 6.49999619 -5.99999666]\n [-4.79999781 9.19999886 -3.49999881 -3.89999866 -2.39999986]\n [-5.89999676 -4.49999809 -3.69999862 0.900000215 8.09999466]],\n [[6.69999599 -4.19999838 -5.79999685 -6.59999609 -2.79999948]\n [-2.69999957 -3.59999871 9.4 -1.70000017 -2.99999928]\n [-0.700000048 -4.19999838 -4.99999762 6.39999628 -6.49999619]\n [-4.6999979 9.19999886 -3.69999862 -3.89999866 -2.39999986]\n [-5.89999676 -4.6999979 -3.69999862 -0.899999917 8.3999958]],\n [[7.29999542 -4.19999838 -5.79999685 -6.69999599 -2.89999938]\n [-3.299999 -3.79999852 9.29999924 -2.39999986 -3.19999909]\n [-1.00000012 -4.19999838 -5.19999743 7.19999552 -6.7999959]\n [-4.6999979 9.29999924 -3.89999843 -3.69999886 -2.59999967]\n [-5.99999666 -4.79999781 -3.79999852 -1.9000001 8.49999619]],\n [[7.49999523 -4.19999838 -5.79999685 -6.69999599 -2.79999948]\n [-3.299999 -3.79999852 9.29999924 -2.59999967 -3.19999909]\n [-1.10000014 -4.19999838 -5.19999743 7.79999495 -6.7999959]\n [-4.6999979 9.29999924 -3.89999843 -3.89999866 -2.69999957]\n [-5.99999666 -4.89999771 -3.79999852 -2.19999981 8.49999619]],\n [[7.89999485 -4.19999838 -5.89999676 -6.69999599 -2.69999957]\n [-3.3999989 -3.79999852 9.29999924 -2.69999957 -3.19999909]\n [-2.00000024 -4.29999828 -5.19999743 7.99999475 -6.7999959]\n [-4.79999781 9.29999924 -4.09999847 -3.89999866 -2.79999948]\n [-6.09999657 -4.89999771 -3.79999852 -2.29999971 8.69999695]],\n [[7.69999504 -4.19999838 -5.99999666 -6.7999959 -2.89999938]\n [-3.299999 -3.79999852 9.4 -2.99999928 -3.299999]\n [-1.4000001 -4.29999828 -5.29999733 8.19999504 -6.7999959]\n [-5.09999752 9.29999924 -4.09999847 -3.99999857 -2.89999938]\n [-6.19999647 -4.99999762 -3.89999843 -2.29999971 8.69999695]],\n [[7.79999495 -4.19999838 -6.09999657 -6.7999959 -2.89999938]\n [-2.69999957 -3.79999852 9.5 -3.09999919 -3.299999]\n [-2.2 -4.29999828 -5.59999704 8.29999542 -6.8999958]\n [-5.09999752 9.4 -4.19999838 -3.99999857 -2.89999938]\n [-6.29999638 -5.09999752 -3.89999843 -2.19999981 8.79999733]],\n [[7.59999514 -4.39999819 -6.19999647 -6.7999959 -2.89999938]\n [-2.39999986 -3.99999833 9.4 -3.19999909 -3.3999989]\n [-2.39999986 -4.29999828 -5.59999704 8.49999619 -6.8999958]\n [-5.09999752 9.5 -4.29999828 -4.09999847 -3.09999919]\n [-6.19999647 -5.09999752 -3.99999833 -2.29999971 8.99999809]],\n [[7.39999533 -4.49999809 -6.29999638 -6.99999571 -2.89999938]\n [-2.2 -3.99999833 9.4 -3.299999 -3.3999989]\n [-2.79999948 -4.29999828 -5.69999695 8.3999958 -6.99999571]\n [-5.09999752 9.80000114 -4.39999819 -4.19999838 -3.19999909]\n [-6.19999647 -5.19999743 -3.99999833 -2.79999924 8.99999809]]]\n"
     ]
    }
   ],
   "source": [
    "tf.print(weights)"
   ]
  },
  {
   "cell_type": "code",
   "execution_count": 89,
   "metadata": {},
   "outputs": [
    {
     "output_type": "stream",
     "name": "stdout",
     "text": [
      "<tf.Variable 'Variable:0' shape=(5, 5) dtype=float32, numpy=\narray([[0., 0., 0., 0., 0.],\n       [0., 0., 0., 0., 0.],\n       [0., 0., 0., 0., 0.],\n       [0., 0., 0., 0., 0.],\n       [0., 0., 0., 0., 0.]], dtype=float32)>\n"
     ]
    }
   ],
   "source": [
    "print(W)"
   ]
  },
  {
   "cell_type": "code",
   "execution_count": null,
   "metadata": {},
   "outputs": [],
   "source": []
  }
 ]
}