{
 "cells": [
  {
   "cell_type": "markdown",
   "metadata": {
    "id": "QpzqamuXb2kI"
   },
   "source": [
    "#RBM prueba 1"
   ]
  },
  {
   "cell_type": "markdown",
   "metadata": {
    "id": "WH52odMskO1c"
   },
   "source": [
    "Vamos a considerar entrenar una RBM para el estado W de 8 qubits.<BR>\n",
    "Lo que haremos, de momento, para facilitar la programación, es simular el estado W."
   ]
  },
  {
   "cell_type": "code",
   "execution_count": 1,
   "metadata": {
    "colab": {
     "base_uri": "https://localhost:8080/"
    },
    "id": "EUQ1Bcv-VHd_",
    "outputId": "b64e0622-caad-4fb4-f88e-8fe2f6462639"
   },
   "outputs": [
    {
     "name": "stdout",
     "output_type": "stream",
     "text": [
      "[0, 0, 0, 1, 0, 0, 0, 0]\n"
     ]
    }
   ],
   "source": [
    "# Retorna en un array de ceros-unos la conversión a binario de un número\n",
    "# Irá bien porque lo que devuelva será una entrada para entrenar a la RBM \n",
    "def toBin(num, nbits):\n",
    "  \n",
    "  def toBin_rec(arr, num):\n",
    "     if ( num <= 1 ):\n",
    "       arr.insert(0,num)\n",
    "       return arr\n",
    "\n",
    "     n = int(num / 2)\n",
    "     if (n * 2 == num):\n",
    "       arr.insert(0,0)\n",
    "     else:\n",
    "       arr.insert(0,1)\n",
    "     return toBin_rec( arr, n )\n",
    "     \n",
    "  a = toBin_rec([], num)\n",
    "  while ( len(a) < nbits ):\n",
    "    a.insert(0,0)\n",
    "  return a\n",
    "\n",
    "# checkit\n",
    "print(toBin(16, 8))"
   ]
  },
  {
   "cell_type": "markdown",
   "metadata": {
    "id": "wpVTjfnTlbLn"
   },
   "source": [
    "#Generador del estado W\n",
    "Retorna un array de arrays. <br>Cada uno de los arrays internos son una línea de samples.<BR>\n",
    "\n",
    "Cada número es un valor válido del estado W para 8 qubits: <br>\n",
    "   ---> 00000001 00000010 00000100 00001000 ... etc.<BR>\n",
    "o sea que retorna : 1, 2, 4, 8, 16, 32, 64 ó 128.<BR><br>\n",
    " -> Samples_per_line: cuántos números por línea se han de generar<BR>\n",
    " -> lines: cuántas líneas<BR><br>\n"
   ]
  },
  {
   "cell_type": "code",
   "execution_count": 2,
   "metadata": {
    "id": "u7sydLqTUJb1"
   },
   "outputs": [],
   "source": [
    "#genera p.e para (3,2):\n",
    "#  [ [1,2,32],\n",
    "#    [128,32,4]]\n",
    "def W_state_generator( samples_per_line, lines ):\n",
    "  return np.random.choice( a = [1,2,4,8,16,32,64,128], size = ( lines, samples_per_line,))"
   ]
  },
  {
   "cell_type": "markdown",
   "metadata": {
    "id": "YYwWggFznfXm"
   },
   "source": [
    "#Generación del dataset"
   ]
  },
  {
   "cell_type": "code",
   "execution_count": 4,
   "metadata": {
    "colab": {
     "base_uri": "https://localhost:8080/"
    },
    "id": "cp-DUODocPk_",
    "outputId": "3e4789dd-9284-4fd4-effb-20c1bec7a307"
   },
   "outputs": [
    {
     "name": "stdout",
     "output_type": "stream",
     "text": [
      "[[ 16  64   1 128   2  32]\n",
      " [  1 128   1   4 128  64]\n",
      " [ 16   1   2   1   1  32]\n",
      " [  1   8  64  16   2  32]\n",
      " [  1   4   1  32  16   8]\n",
      " [ 16   4 128   2   1   8]\n",
      " [  2   2  16  16 128  32]]\n"
     ]
    }
   ],
   "source": [
    "import tensorflow as tf\n",
    "import numpy as np\n",
    "nqbits = 8\n",
    "dataset = W_state_generator( 6, 7) \n",
    "print (dataset)\n"
   ]
  },
  {
   "cell_type": "markdown",
   "metadata": {
    "id": "C02pjEdJWBWr"
   },
   "source": [
    "## Datos de la RBM"
   ]
  },
  {
   "cell_type": "code",
   "execution_count": 5,
   "metadata": {
    "id": "HJaOp0wfVm5F"
   },
   "outputs": [],
   "source": [
    "hiddenUnits = 12\n",
    "visibleUnits = nqbits # number of bits\n",
    "vb = tf.Variable(tf.zeros([visibleUnits]), tf.float32) #Visual Layer\n",
    "hb = tf.Variable(tf.zeros([hiddenUnits]), tf.float32) #Hidden Layer\n",
    "W = tf.Variable(tf.zeros([visibleUnits, hiddenUnits]), tf.float32) # Pesos entre las neuronas"
   ]
  },
  {
   "cell_type": "code",
   "execution_count": 6,
   "metadata": {
    "id": "jOBtz_l9WApb"
   },
   "outputs": [],
   "source": [
    "v0 = tf.zeros([visibleUnits], tf.float32)"
   ]
  },
  {
   "cell_type": "code",
   "execution_count": 7,
   "metadata": {
    "colab": {
     "base_uri": "https://localhost:8080/"
    },
    "id": "BPPqGmUfWkWl",
    "outputId": "b7fc2605-a057-4ac6-e9bc-6b525f423c75"
   },
   "outputs": [
    {
     "name": "stdout",
     "output_type": "stream",
     "text": [
      "h0:  tf.Tensor([[0. 1. 0. 1. 1. 1. 0. 1. 1. 0. 1. 0.]], shape=(1, 12), dtype=float32)\n",
      "hidden state shape:  (1, 12)\n",
      "v0 state shape:   (8,)\n",
      "v1 state shape:   tf.Tensor([1. 0. 0. 1. 1. 1. 0. 0.], shape=(8,), dtype=float32)\n"
     ]
    }
   ],
   "source": [
    "#Phase 1: Input Processing\n",
    "#defining a function to return only the generated hidden states \n",
    "def hidden_layer(v0_state, W, hb):\n",
    "    h0_prob = tf.nn.sigmoid(tf.matmul([v0_state], W) + hb)  #probabilities of the hidden units\n",
    "    #h0_prob está a 0.5 inicialmente\n",
    " #   print(\"h0_prob: \", h0_prob)\n",
    " #   print(\"shape de h0_prob: \", tf.shape(h0_prob))\n",
    " #   print(\"random: \",  tf.random.uniform(tf.shape(h0_prob)))\n",
    "    h0_state = tf.nn.relu(tf.sign(h0_prob - tf.random.uniform(tf.shape(h0_prob)))) #sample_h_given_X\n",
    "    #print(\"h0_state: \",h0_state)\n",
    "    return h0_state\n",
    "\n",
    "\n",
    "#printing output of zeros input\n",
    "h0 = hidden_layer(v0, W, hb)\n",
    "#print(\"first 15 hidden states: \", h0[0][0:15])\n",
    "print(\"h0: \", h0)\n",
    "def reconstructed_output(h0_state, W, vb):\n",
    "    v1_prob = tf.nn.sigmoid(tf.matmul(h0_state, tf.transpose(W)) + vb) \n",
    "    v1_state = tf.nn.relu(tf.sign(v1_prob - tf.random.uniform(tf.shape(v1_prob)))) #sample_v_given_h\n",
    "    return v1_state[0]\n",
    "\n",
    "\n",
    "v1 = reconstructed_output(h0, W, vb)\n",
    "print(\"hidden state shape: \", h0.shape)\n",
    "print(\"v0 state shape:  \", v0.shape)\n",
    "print(\"v1 state shape:  \", v1)"
   ]
  },
  {
   "cell_type": "code",
   "execution_count": 8,
   "metadata": {
    "id": "IXjE5AfbWyrM"
   },
   "outputs": [],
   "source": [
    "def error(v0_state, v1_state):\n",
    "    return tf.reduce_mean(tf.square(v0_state - v1_state))"
   ]
  },
  {
   "cell_type": "code",
   "execution_count": 9,
   "metadata": {
    "colab": {
     "base_uri": "https://localhost:8080/"
    },
    "id": "wEsxHwTjW0Rr",
    "outputId": "48bb0457-4e46-4997-92aa-c0d36bf43969"
   },
   "outputs": [
    {
     "name": "stdout",
     "output_type": "stream",
     "text": [
      "<tf.Variable 'Variable:0' shape=(8, 12) dtype=float32, numpy=\n",
      "array([[0., 0., 0., 0., 0., 0., 0., 0., 0., 0., 0., 0.],\n",
      "       [0., 0., 0., 0., 0., 0., 0., 0., 0., 0., 0., 0.],\n",
      "       [0., 0., 0., 0., 0., 0., 0., 0., 0., 0., 0., 0.],\n",
      "       [0., 0., 0., 0., 0., 0., 0., 0., 0., 0., 0., 0.],\n",
      "       [0., 0., 0., 0., 0., 0., 0., 0., 0., 0., 0., 0.],\n",
      "       [0., 0., 0., 0., 0., 0., 0., 0., 0., 0., 0., 0.],\n",
      "       [0., 0., 0., 0., 0., 0., 0., 0., 0., 0., 0., 0.],\n",
      "       [0., 0., 0., 0., 0., 0., 0., 0., 0., 0., 0., 0.]], dtype=float32)>\n"
     ]
    }
   ],
   "source": [
    "#epochs = 5\n",
    "#batchsize = 500\n",
    "#errors = []\n",
    "#weights = []\n",
    "#K=1\n",
    "alpha = 0.1\n",
    "print (W)"
   ]
  },
  {
   "cell_type": "markdown",
   "metadata": {
    "id": "7Po6gS1Wnzd0"
   },
   "source": [
    "#Entreno de la RBM"
   ]
  },
  {
   "cell_type": "code",
   "execution_count": 10,
   "metadata": {
    "id": "o_7GEBgeXYrj"
   },
   "outputs": [],
   "source": [
    "for line in dataset:\n",
    "  for num in line:\n",
    "    v0_state = tf.convert_to_tensor(toBin(num,nqbits),tf.float32)\n",
    "    \n",
    "    h0_state = hidden_layer(v0_state, W, hb)\n",
    "    v1_state = reconstructed_output(h0_state, W, vb)\n",
    "    h1_state = hidden_layer(v1_state, W, hb)\n",
    "    delta_W = tf.matmul(tf.transpose([v0_state]), h0_state) - tf.matmul(tf.transpose([v1_state]), h1_state)\n",
    "    W = W + alpha * delta_W\n",
    "    vb = vb + alpha * tf.reduce_mean(v0_state - v1_state, 0)\n",
    "    hb = hb + alpha * tf.reduce_mean(h0_state - h1_state, 0) \n",
    "\n",
    "\n",
    "\n",
    "\n"
   ]
  },
  {
   "cell_type": "markdown",
   "metadata": {
    "id": "ZvNSg-fTqJym"
   },
   "source": [
    "#Ahora ya podemos hacer una simulación a la inversa, o sea, que nos de resultados a partir del estado interno."
   ]
  },
  {
   "cell_type": "code",
   "execution_count": 11,
   "metadata": {
    "colab": {
     "base_uri": "https://localhost:8080/"
    },
    "id": "jSy6QcsIjEil",
    "outputId": "15fbf555-b37b-4026-c190-e74a17e9429c"
   },
   "outputs": [
    {
     "name": "stdout",
     "output_type": "stream",
     "text": [
      "tf.Tensor([0. 1. 1. 0. 0. 0. 0. 0.], shape=(8,), dtype=float32)\n",
      "tf.Tensor([0. 0. 0. 0. 1. 0. 0. 0.], shape=(8,), dtype=float32)\n",
      "tf.Tensor([0. 0. 1. 1. 0. 0. 0. 0.], shape=(8,), dtype=float32)\n",
      "tf.Tensor([0. 0. 1. 0. 0. 0. 0. 0.], shape=(8,), dtype=float32)\n",
      "tf.Tensor([0. 0. 1. 1. 0. 0. 0. 0.], shape=(8,), dtype=float32)\n",
      "tf.Tensor([0. 0. 0. 0. 0. 0. 0. 0.], shape=(8,), dtype=float32)\n",
      "tf.Tensor([0. 0. 0. 0. 0. 0. 0. 1.], shape=(8,), dtype=float32)\n",
      "tf.Tensor([0. 0. 1. 0. 0. 0. 0. 0.], shape=(8,), dtype=float32)\n",
      "tf.Tensor([1. 0. 1. 1. 0. 1. 0. 0.], shape=(8,), dtype=float32)\n",
      "tf.Tensor([0. 0. 1. 0. 0. 0. 0. 0.], shape=(8,), dtype=float32)\n"
     ]
    }
   ],
   "source": [
    "for i in range(10):\n",
    "  print(reconstructed_output(h0_state, W, vb))"
   ]
  },
  {
   "cell_type": "code",
   "execution_count": 12,
   "metadata": {
    "colab": {
     "base_uri": "https://localhost:8080/"
    },
    "id": "3M_rIdZTkAIW",
    "outputId": "742e5d53-08e8-49e5-e0a0-3d6fd5924b77"
   },
   "outputs": [
    {
     "name": "stdout",
     "output_type": "stream",
     "text": [
      "tf.Tensor(\n",
      "[ 0.5         0.5        -0.70000005  0.          0.20000002  0.4\n",
      "  0.3         0.20000002  0.20000002  0.4         0.20000002 -0.09999999], shape=(12,), dtype=float32)\n"
     ]
    }
   ],
   "source": [
    "print(hb)  "
   ]
  },
  {
   "cell_type": "code",
   "execution_count": null,
   "metadata": {
    "id": "lGWYe5eZXHV7"
   },
   "outputs": [],
   "source": [
    "#Código copiado de IBM:\n",
    "# v0_state=v0\n",
    "#for epoch in range(dataset):\n",
    "#    batch_number = 0\n",
    "#    for batch_x in train_ds:\n",
    "#\n",
    "#        for i_sample in range(len(batch_x)):           \n",
    "#            for k in range(K):\n",
    "#                v0_state = batch_x[i_sample]\n",
    "#                h0_state = hidden_layer(v0_state, W, hb)\n",
    "#                v1_state = reconstructed_output(h0_state, W, vb)\n",
    "#                h1_state = hidden_layer(v1_state, W, hb)\n",
    "#\n",
    "#                delta_W = tf.matmul(tf.transpose([v0_state]), h0_state) - tf.matmul(tf.transpose([v1_state]), h1_state)\n",
    "#                W = W + alpha * delta_W#\n",
    "#\n",
    "#                vb = vb + alpha * tf.reduce_mean(v0_state - v1_state, 0)\n",
    "#                hb = hb + alpha * tf.reduce_mean(h0_state - h1_state, 0) \n",
    "#\n",
    "#                v0_state = v1_state\n",
    "#\n",
    "#            if i_sample == len(batch_x)-1:\n",
    "#                err = error(batch_x[i_sample], v1_state)\n",
    "#                errors.append(err)\n",
    "#                weights.append(W)\n",
    "#                print ( 'Epoch: %d' % (epoch + 1), \n",
    "#                       \"batch #: %i \" % batch_number, \"of %i\" % (len(trX)/batchsize), \n",
    "#                       \"sample #: %i\" % i_sample,\n",
    "#                       'reconstruction error: %f' % err)\n",
    "#        batch_number += 1\n",
    "\n",
    "#plt.plot(errors)\n",
    "#plt.ylabel('Error')\n",
    "#plt.xlabel('Epoch')\n",
    "#plt.show()"
   ]
  }
 ],
 "metadata": {
  "colab": {
   "collapsed_sections": [],
   "name": "rbm.ipynb",
   "provenance": []
  },
  "kernelspec": {
   "display_name": "Python 3",
   "language": "python",
   "name": "python3"
  },
  "language_info": {
   "codemirror_mode": {
    "name": "ipython",
    "version": 3
   },
   "file_extension": ".py",
   "mimetype": "text/x-python",
   "name": "python",
   "nbconvert_exporter": "python",
   "pygments_lexer": "ipython3",
   "version": "3.8.8"
  }
 },
 "nbformat": 4,
 "nbformat_minor": 1
}
